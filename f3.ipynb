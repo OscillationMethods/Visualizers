{
 "cells": [
  {
   "cell_type": "markdown",
   "metadata": {},
   "source": [
    "# Fig 3: variable aperiodic activity gif\n",
    "\n",
    "This notebook creates an animated visualizer showing how dynamic aperiodic activity can influence estimates.\n",
    "\n",
    "Based on Fig 3 (c-e) of the oscillation methods paper. \n",
    "\n",
    "ToDo:\n",
    "- add labels and/or color coding to the bar plots\n",
    "- set limits on the bar plots"
   ]
  },
  {
   "cell_type": "code",
   "execution_count": 57,
   "metadata": {},
   "outputs": [],
   "source": [
    "import numpy as np\n",
    "import matplotlib.pyplot as plt\n",
    "\n",
    "from fooof import Bands\n",
    "from fooof.utils import trim_spectrum\n",
    "from neurodsp.spectral import compute_spectrum\n",
    "\n",
    "from neurodsp.plts.utils import check_ax\n",
    "\n",
    "from neurodsp.sim import sim_powerlaw, sim_oscillation"
   ]
  },
  {
   "cell_type": "code",
   "execution_count": 58,
   "metadata": {},
   "outputs": [],
   "source": [
    "import seaborn as sns\n",
    "sns.set_context('poster')"
   ]
  },
  {
   "cell_type": "code",
   "execution_count": 59,
   "metadata": {},
   "outputs": [],
   "source": [
    "# Import custom code\n",
    "from code.utils import rotate_sig, compute_abs_power, compute_rel_power\n",
    "from code.plts import plot_bar, plot_band_bars, plot_spectra\n",
    "from code.gif import clear_output, _gif_plot_output"
   ]
  },
  {
   "cell_type": "markdown",
   "metadata": {},
   "source": [
    "## SETTINGS"
   ]
  },
  {
   "cell_type": "code",
   "execution_count": 14,
   "metadata": {},
   "outputs": [],
   "source": [
    "n_seconds = 25\n",
    "fs = 1000\n",
    "\n",
    "exp = -1\n",
    "cf = 10\n",
    "\n",
    "exp_rot = 0.1\n",
    "f_rotation = 10"
   ]
  },
  {
   "cell_type": "code",
   "execution_count": 15,
   "metadata": {},
   "outputs": [],
   "source": [
    "# Define band definitions\n",
    "BANDS = Bands({'delta' : [2, 4],\n",
    "               'theta' : [4, 8],\n",
    "               'alpha' : [8, 13],\n",
    "               'beta' : [13, 30],\n",
    "               'gamma' : [30, 80]})\n",
    "\n",
    "# Define band colors, for shading\n",
    "BAND_COLORS = {'delta' : '#e8dc35',\n",
    "               'theta' : '#46b870',\n",
    "               'alpha' : '#1882d9',\n",
    "               'beta'  : '#a218d9',\n",
    "               'gamma' : '#e60026'}\n",
    "\n",
    "shade_colors = [BAND_COLORS[band] for band in BANDS.labels]\n",
    "\n",
    "PLT_RANGE = [1, 50]\n",
    "ALPHA_RANGE = (8, 12)\n",
    "full_range = [2, 50]"
   ]
  },
  {
   "cell_type": "markdown",
   "metadata": {},
   "source": [
    "## DEFINE AXES"
   ]
  },
  {
   "cell_type": "code",
   "execution_count": 16,
   "metadata": {},
   "outputs": [],
   "source": [
    "def make_axes():\n",
    "    \n",
    "    fig = plt.figure(figsize=(12, 4), constrained_layout=True)\n",
    "    gs = fig.add_gridspec(2, 6)\n",
    "    ax1 = fig.add_subplot(gs[0:, 0:2])\n",
    "    ax2 = fig.add_subplot(gs[0:, 2:4])\n",
    "    ax3 = fig.add_subplot(gs[0, 4:])\n",
    "    ax4 = fig.add_subplot(gs[1, 4])\n",
    "    ax5 = fig.add_subplot(gs[1, 5])\n",
    "    \n",
    "    return fig, ax1, ax2, ax3, ax4, ax5"
   ]
  },
  {
   "cell_type": "markdown",
   "metadata": {},
   "source": [
    "## SIMULATE SIGNAL"
   ]
  },
  {
   "cell_type": "code",
   "execution_count": 17,
   "metadata": {},
   "outputs": [],
   "source": [
    "ap = sim_powerlaw(n_seconds, fs, exp)\n",
    "osc = 0.5 * sim_oscillation(n_seconds, fs, cf)\n",
    "\n",
    "sig1 = ap + osc"
   ]
  },
  {
   "cell_type": "code",
   "execution_count": 18,
   "metadata": {},
   "outputs": [],
   "source": [
    "sig2 = rotate_sig(sig1, fs, exp_rot, f_rotation)"
   ]
  },
  {
   "cell_type": "code",
   "execution_count": 19,
   "metadata": {},
   "outputs": [],
   "source": [
    "freqs1, powers1 = trim_spectrum(*compute_spectrum(sig1, fs), PLT_RANGE)\n",
    "freqs2, powers2 = trim_spectrum(*compute_spectrum(sig2, fs), PLT_RANGE)\n",
    "\n",
    "deltas = {}\n",
    "for label, f_range in BANDS:\n",
    "    deltas[label] = compute_abs_power(freqs1, powers1, f_range) - \\\n",
    "        compute_abs_power(freqs2, powers2, f_range)\n",
    "    \n",
    "\n",
    "abs1 = compute_abs_power(freqs1, powers1, ALPHA_RANGE)\n",
    "abs2 = compute_abs_power(freqs2, powers2, ALPHA_RANGE)\n",
    "\n",
    "tot1 = compute_abs_power(freqs1, powers1, full_range)\n",
    "tot2 = compute_abs_power(freqs2, powers2, full_range)\n",
    "\n",
    "rel1 = compute_rel_power(freqs1, powers1, ALPHA_RANGE, norm_range=full_range)\n",
    "rel2 = compute_rel_power(freqs2, powers2, ALPHA_RANGE, norm_range=full_range)"
   ]
  },
  {
   "cell_type": "markdown",
   "metadata": {},
   "source": [
    "## EXAMPLE PLOT"
   ]
  },
  {
   "cell_type": "code",
   "execution_count": 60,
   "metadata": {},
   "outputs": [
    {
     "data": {
      "image/png": "[encoded data removed]",
      "text/plain": [
       "<Figure size 864x288 with 5 Axes>"
      ]
     },
     "metadata": {
      "needs_background": "light"
     },
     "output_type": "display_data"
    }
   ],
   "source": [
    "fig, ax1, ax2, ax3, ax4, ax5 = make_axes()\n",
    "plot_spectra(freqs1, [powers1, powers2], log_freqs=False,\n",
    "             shade_ranges=BANDS.definitions, shade_colors=shade_colors,\n",
    "             xlim=PLT_RANGE, ax=ax1)\n",
    "plot_band_bars(deltas, shade_colors, ax=ax2)\n",
    "plot_bar(rel1, rel2, ax=ax3)\n",
    "plot_bar(abs1, abs2, ax=ax4)\n",
    "plot_bar(tot1, tot2, ax=ax5)"
   ]
  },
  {
   "cell_type": "markdown",
   "metadata": {},
   "source": [
    "## BUILDER FUNCTION"
   ]
  },
  {
   "cell_type": "code",
   "execution_count": 61,
   "metadata": {},
   "outputs": [],
   "source": [
    "def build_all(sig, rotations, sleep=0.10, save=False):\n",
    "    \n",
    "    ## Setup\n",
    "    \n",
    "    # Precompute measures for signal 1\n",
    "    freqs1, powers1 = trim_spectrum(*compute_spectrum(sig, fs), PLT_RANGE)    \n",
    "    abs1 = compute_abs_power(freqs1, powers1, ALPHA_RANGE)\n",
    "    tot1 = compute_abs_power(freqs1, powers1, full_range)\n",
    "    rel1 = compute_rel_power(freqs1, powers1, ALPHA_RANGE, norm_range=full_range)\n",
    "\n",
    "    # Precompute the rotated signals\n",
    "    rots = []\n",
    "    for rotation in rotations:\n",
    "        rots.append(rotate_sig(sig1, fs, rotation, f_rotation))\n",
    "\n",
    "    # Precompute and collect the rotated signal measures\n",
    "    powers2s, deltas, abs2s, tot2s, rel2s = [], [], [], [], []\n",
    "    for rot in rots:\n",
    "        \n",
    "        freqs2, powers2 = trim_spectrum(*compute_spectrum(rot, fs), PLT_RANGE)\n",
    "        powers2s.append(powers2)\n",
    "\n",
    "        temp = {}\n",
    "        for label, f_range in BANDS:\n",
    "            temp[label] = compute_abs_power(freqs1, powers1, f_range) - \\\n",
    "                compute_abs_power(freqs2, powers2, f_range)\n",
    "        deltas.append(temp)\n",
    "\n",
    "        abs2s.append(compute_abs_power(freqs2, powers2, ALPHA_RANGE))\n",
    "        tot2s.append(compute_abs_power(freqs2, powers2, full_range))\n",
    "        rel2s.append(compute_rel_power(freqs2, powers2, ALPHA_RANGE, norm_range=full_range))\n",
    "    \n",
    "    ## Create builds\n",
    "    for b_ind, (powers2, delta, abs2, tot2, rel2) in enumerate(zip(powers2s, deltas, abs2s, tot2s, rel2s)):\n",
    "        \n",
    "        clear_output(wait=True)\n",
    "        \n",
    "        # Make plot\n",
    "        fig, ax1, ax2, ax3, ax4, ax5 = make_axes()\n",
    "        plot_spectra(freqs1, [powers1, powers2], log_freqs=False,\n",
    "                     shade_ranges=BANDS.definitions, shade_colors=shade_colors,\n",
    "                     xlim=PLT_RANGE, ax=ax1)\n",
    "        plot_band_bars(delta, shade_colors, ax=ax2)\n",
    "        plot_bar(rel1, rel2, ax=ax3)\n",
    "        plot_bar(abs1, abs2, ax=ax4)\n",
    "        plot_bar(tot1, tot2, ax=ax5)\n",
    "    \n",
    "        _gif_plot_output(fig, save, b_ind, 'fig3', sleep)"
   ]
  },
  {
   "cell_type": "markdown",
   "metadata": {},
   "source": [
    "## ANIMATED PLOT"
   ]
  },
  {
   "cell_type": "code",
   "execution_count": 62,
   "metadata": {},
   "outputs": [],
   "source": [
    "rotations = [0, 0.1, 0.2, 0.3, 0.4, 0.5,\n",
    "             0.4, 0.3, 0.2, 0.1, 0,\n",
    "             -0.1, -0.2, -0.3, -0.4, -0.5, \n",
    "             -0.4, -0.3, -0.2, -0.1]"
   ]
  },
  {
   "cell_type": "code",
   "execution_count": 63,
   "metadata": {},
   "outputs": [
    {
     "data": {
      "image/png": "[encoded data removed]",
      "text/plain": [
       "<Figure size 864x288 with 5 Axes>"
      ]
     },
     "metadata": {
      "needs_background": "light"
     },
     "output_type": "display_data"
    }
   ],
   "source": [
    "build_all(sig1, rotations)"
   ]
  }
 ],
 "metadata": {
  "kernelspec": {
   "display_name": "Python 3",
   "language": "python",
   "name": "python3"
  },
  "language_info": {
   "codemirror_mode": {
    "name": "ipython",
    "version": 3
   },
   "file_extension": ".py",
   "mimetype": "text/x-python",
   "name": "python",
   "nbconvert_exporter": "python",
   "pygments_lexer": "ipython3",
   "version": "3.8.3"
  }
 },
 "nbformat": 4,
 "nbformat_minor": 4
}
